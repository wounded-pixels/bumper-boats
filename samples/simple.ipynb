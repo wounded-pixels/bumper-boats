{
 "cells": [
  {
   "cell_type": "code",
   "execution_count": 1,
   "metadata": {},
   "outputs": [],
   "source": [
    "import numpy as np\n",
    "\n",
    "from ipycanvas import Canvas\n",
    "\n",
    "from bumperboats.boat import Boat\n",
    "from bumperboats.controller import FixedController\n",
    "from bumperboats.physics import SimpleEngine\n",
    "from bumperboats.viewer import CanvasViewer"
   ]
  },
  {
   "cell_type": "code",
   "execution_count": 6,
   "metadata": {
    "pycharm": {
     "name": "#%%\n"
    }
   },
   "outputs": [],
   "source": [
    "engine = SimpleEngine()\n",
    "canvas = Canvas(width=450, height=450)\n",
    "viewer = CanvasViewer(engine, canvas)\n",
    "\n",
    "boat = Boat(np.array([325.,325.]), 0., np.array([0.,0.]), np.array([0.5, 0.]))\n",
    "controller = FixedController(thrust = 1.25, thrust_angle = 30.)\n",
    "engine.add_boat(boat, controller)\n",
    "\n",
    "for _ in range(280):\n",
    "    engine.tick(0.5)\n",
    "    viewer.tick()\n"
   ]
  },
  {
   "cell_type": "code",
   "execution_count": 7,
   "metadata": {
    "pycharm": {
     "name": "#%%\n"
    }
   },
   "outputs": [
    {
     "data": {
      "application/vnd.jupyter.widget-view+json": {
       "model_id": "3b0c2f2695554bfb94f7bc9ca8227d89",
       "version_major": 2,
       "version_minor": 0
      },
      "text/plain": [
       "Canvas(height=450, width=450)"
      ]
     },
     "metadata": {},
     "output_type": "display_data"
    }
   ],
   "source": [
    "canvas\n",
    "\n",
    "\n"
   ]
  },
  {
   "cell_type": "code",
   "execution_count": null,
   "metadata": {},
   "outputs": [],
   "source": []
  }
 ],
 "metadata": {
  "kernelspec": {
   "display_name": "Python 3",
   "language": "python",
   "name": "python3"
  },
  "language_info": {
   "codemirror_mode": {
    "name": "ipython",
    "version": 3
   },
   "file_extension": ".py",
   "mimetype": "text/x-python",
   "name": "python",
   "nbconvert_exporter": "python",
   "pygments_lexer": "ipython3",
   "version": "3.7.7"
  }
 },
 "nbformat": 4,
 "nbformat_minor": 1
}
